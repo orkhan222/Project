{
 "cells": [
  {
   "cell_type": "code",
   "execution_count": 3,
   "metadata": {},
   "outputs": [],
   "source": [
    "import pandas as pd\n",
    "from sklearn.model_selection import train_test_split\n",
    "from sklearn.preprocessing import LabelEncoder\n",
    "from sklearn.linear_model import LogisticRegression\n",
    "from sklearn.metrics import accuracy_score"
   ]
  },
  {
   "cell_type": "code",
   "execution_count": 4,
   "metadata": {},
   "outputs": [
    {
     "data": {
      "text/html": [
       "<div>\n",
       "<style scoped>\n",
       "    .dataframe tbody tr th:only-of-type {\n",
       "        vertical-align: middle;\n",
       "    }\n",
       "\n",
       "    .dataframe tbody tr th {\n",
       "        vertical-align: top;\n",
       "    }\n",
       "\n",
       "    .dataframe thead th {\n",
       "        text-align: right;\n",
       "    }\n",
       "</style>\n",
       "<table border=\"1\" class=\"dataframe\">\n",
       "  <thead>\n",
       "    <tr style=\"text-align: right;\">\n",
       "      <th></th>\n",
       "      <th>UDI</th>\n",
       "      <th>Product ID</th>\n",
       "      <th>Type</th>\n",
       "      <th>Air temperature [K]</th>\n",
       "      <th>Process temperature [K]</th>\n",
       "      <th>Rotational speed [rpm]</th>\n",
       "      <th>Torque [Nm]</th>\n",
       "      <th>Tool wear [min]</th>\n",
       "      <th>Target</th>\n",
       "      <th>Failure Type</th>\n",
       "    </tr>\n",
       "  </thead>\n",
       "  <tbody>\n",
       "    <tr>\n",
       "      <th>0</th>\n",
       "      <td>1</td>\n",
       "      <td>M14860</td>\n",
       "      <td>M</td>\n",
       "      <td>298.1</td>\n",
       "      <td>308.6</td>\n",
       "      <td>1551</td>\n",
       "      <td>42.8</td>\n",
       "      <td>0</td>\n",
       "      <td>0</td>\n",
       "      <td>No Failure</td>\n",
       "    </tr>\n",
       "    <tr>\n",
       "      <th>1</th>\n",
       "      <td>2</td>\n",
       "      <td>L47181</td>\n",
       "      <td>L</td>\n",
       "      <td>298.2</td>\n",
       "      <td>308.7</td>\n",
       "      <td>1408</td>\n",
       "      <td>46.3</td>\n",
       "      <td>3</td>\n",
       "      <td>0</td>\n",
       "      <td>No Failure</td>\n",
       "    </tr>\n",
       "  </tbody>\n",
       "</table>\n",
       "</div>"
      ],
      "text/plain": [
       "   UDI Product ID Type  Air temperature [K]  Process temperature [K]  \\\n",
       "0    1     M14860    M                298.1                    308.6   \n",
       "1    2     L47181    L                298.2                    308.7   \n",
       "\n",
       "   Rotational speed [rpm]  Torque [Nm]  Tool wear [min]  Target Failure Type  \n",
       "0                    1551         42.8                0       0   No Failure  \n",
       "1                    1408         46.3                3       0   No Failure  "
      ]
     },
     "execution_count": 4,
     "metadata": {},
     "output_type": "execute_result"
    }
   ],
   "source": [
    "df = pd.read_csv(r'../dataset/predictive_maintenance.csv')\n",
    "df.head(2)"
   ]
  },
  {
   "cell_type": "code",
   "execution_count": 5,
   "metadata": {},
   "outputs": [],
   "source": [
    "import pandas as pd\n",
    "from sklearn.model_selection import train_test_split\n",
    "from sklearn.preprocessing import StandardScaler, OneHotEncoder\n",
    "from sklearn.compose import ColumnTransformer\n",
    "from sklearn.pipeline import Pipeline\n",
    "\n",
    "\n",
    "\n",
    "# Drop the 'Product ID' column\n",
    "df = df.drop(columns=['Product ID'])\n",
    "\n",
    "# Define the features and target variable for multiclass classification\n",
    "X = df.drop(columns=['Target', 'Failure Type'])  # Features\n",
    "y_multi = df['Failure Type']  # Target variable for multiclass classification\n",
    "\n",
    "# Define the preprocessing for numerical features\n",
    "numerical_features = X.select_dtypes(include=['int64', 'float64']).columns\n",
    "numerical_transformer = StandardScaler()\n",
    "\n",
    "# Define the preprocessing for categorical features\n",
    "categorical_features = ['Type']\n",
    "categorical_transformer = OneHotEncoder(handle_unknown='ignore')\n",
    "\n",
    "# Combine preprocessing steps\n",
    "preprocessor = ColumnTransformer(\n",
    "    transformers=[\n",
    "        ('num', numerical_transformer, numerical_features),\n",
    "        ('cat', categorical_transformer, categorical_features)\n",
    "    ])\n",
    "\n",
    "# Split the dataset into training and testing sets for multiclass classification\n",
    "X_train_multi, X_test_multi, y_train_multi, y_test_multi = train_test_split(X, y_multi, test_size=0.2, random_state=42)\n",
    "\n",
    "# Apply the preprocessing\n",
    "preprocessor.fit(X_train_multi)\n",
    "X_train_transformed_multi = preprocessor.transform(X_train_multi)\n",
    "X_test_transformed_multi = preprocessor.transform(X_test_multi)\n",
    "\n",
    "# Now X_train_transformed_multi and X_test_transformed_multi are ready for machine learning model training for multiclass classification\n"
   ]
  },
  {
   "cell_type": "code",
   "execution_count": 7,
   "metadata": {},
   "outputs": [
    {
     "name": "stdout",
     "output_type": "stream",
     "text": [
      "   Type_H  Type_L  Type_M\n",
      "0     0.0     0.0     1.0\n",
      "1     0.0     1.0     0.0\n",
      "2     0.0     1.0     0.0\n",
      "3     0.0     1.0     0.0\n",
      "4     0.0     1.0     0.0\n",
      "   UDI  Air temperature [K]  Process temperature [K]  Rotational speed [rpm]  \\\n",
      "0    1                298.1                    308.6                    1551   \n",
      "1    2                298.2                    308.7                    1408   \n",
      "2    3                298.1                    308.5                    1498   \n",
      "3    4                298.2                    308.6                    1433   \n",
      "4    5                298.2                    308.7                    1408   \n",
      "\n",
      "   Torque [Nm]  Tool wear [min]  Target Failure Type  Type_H  Type_L  Type_M  \n",
      "0         42.8                0       0   No Failure     0.0     0.0     1.0  \n",
      "1         46.3                3       0   No Failure     0.0     1.0     0.0  \n",
      "2         49.4                5       0   No Failure     0.0     1.0     0.0  \n",
      "3         39.5                7       0   No Failure     0.0     1.0     0.0  \n",
      "4         40.0                9       0   No Failure     0.0     1.0     0.0  \n"
     ]
    },
    {
     "name": "stderr",
     "output_type": "stream",
     "text": [
      "c:\\Users\\user\\anaconda3\\Lib\\site-packages\\sklearn\\preprocessing\\_encoders.py:972: FutureWarning: `sparse` was renamed to `sparse_output` in version 1.2 and will be removed in 1.4. `sparse_output` is ignored unless you leave `sparse` to its default value.\n",
      "  warnings.warn(\n"
     ]
    }
   ],
   "source": [
    "from sklearn.preprocessing import OneHotEncoder\n",
    "\n",
    "# Assuming df_dropped is your DataFrame after dropping the 'Product ID' column\n",
    "\n",
    "# Selecting the 'Type' column for one-hot encoding\n",
    "type_column = df[['Type']]  # Double brackets to keep the DataFrame format\n",
    "\n",
    "# Create the encoder instance\n",
    "encoder = OneHotEncoder(sparse=False)\n",
    "\n",
    "# Fit and transform the 'Type' column\n",
    "type_encoded = encoder.fit_transform(type_column)\n",
    "\n",
    "# Convert the encoded result into a DataFrame\n",
    "type_encoded_df = pd.DataFrame(type_encoded, columns=encoder.get_feature_names_out(['Type']))\n",
    "\n",
    "# Display the first few rows to verify\n",
    "print(type_encoded_df.head())\n",
    "\n",
    "# To merge this back with the original DataFrame (excluding the original 'Type' column),\n",
    "# you can concatenate along the columns\n",
    "df_encoded = pd.concat([df.drop(columns=['Type']), type_encoded_df], axis=1)\n",
    "\n",
    "# Display the first few rows of the updated DataFrame to confirm\n",
    "print(df_encoded.head())\n"
   ]
  },
  {
   "cell_type": "code",
   "execution_count": 9,
   "metadata": {},
   "outputs": [
    {
     "name": "stdout",
     "output_type": "stream",
     "text": [
      "        UDI  Air temperature [K]  Process temperature [K]  \\\n",
      "0 -1.731878            -0.952389                -0.947360   \n",
      "1 -1.731531            -0.902393                -0.879959   \n",
      "2 -1.731185            -0.952389                -1.014761   \n",
      "3 -1.730838            -0.902393                -0.947360   \n",
      "4 -1.730492            -0.902393                -0.879959   \n",
      "\n",
      "   Rotational speed [rpm]  Torque [Nm]  Tool wear [min]    Target  \\\n",
      "0                0.068185     0.282200        -1.695984 -0.187322   \n",
      "1               -0.729472     0.633308        -1.648852 -0.187322   \n",
      "2               -0.227450     0.944290        -1.617430 -0.187322   \n",
      "3               -0.590021    -0.048845        -1.586009 -0.187322   \n",
      "4               -0.729472     0.001313        -1.554588 -0.187322   \n",
      "\n",
      "  Failure Type    Type_H    Type_L    Type_M  \n",
      "0   No Failure -0.333889 -1.224745  1.528617  \n",
      "1   No Failure -0.333889  0.816497 -0.654186  \n",
      "2   No Failure -0.333889  0.816497 -0.654186  \n",
      "3   No Failure -0.333889  0.816497 -0.654186  \n",
      "4   No Failure -0.333889  0.816497 -0.654186  \n"
     ]
    }
   ],
   "source": [
    "from sklearn.preprocessing import StandardScaler\n",
    "\n",
    "# Assuming df_encoded is your DataFrame after encoding the 'Type' variable\n",
    "\n",
    "# Selecting numerical features to scale\n",
    "numerical_features = df_encoded.select_dtypes(include=['int64', 'float64']).columns\n",
    "\n",
    "# Creating the scaler instance\n",
    "scaler = StandardScaler()\n",
    "\n",
    "# Fit and transform the numerical features\n",
    "df_encoded[numerical_features] = scaler.fit_transform(df_encoded[numerical_features])\n",
    "\n",
    "# Display the first few rows to verify the scaling\n",
    "print(df_encoded.head())\n"
   ]
  },
  {
   "cell_type": "code",
   "execution_count": null,
   "metadata": {},
   "outputs": [],
   "source": []
  }
 ],
 "metadata": {
  "kernelspec": {
   "display_name": "base",
   "language": "python",
   "name": "python3"
  },
  "language_info": {
   "codemirror_mode": {
    "name": "ipython",
    "version": 3
   },
   "file_extension": ".py",
   "mimetype": "text/x-python",
   "name": "python",
   "nbconvert_exporter": "python",
   "pygments_lexer": "ipython3",
   "version": "3.11.5"
  }
 },
 "nbformat": 4,
 "nbformat_minor": 2
}
